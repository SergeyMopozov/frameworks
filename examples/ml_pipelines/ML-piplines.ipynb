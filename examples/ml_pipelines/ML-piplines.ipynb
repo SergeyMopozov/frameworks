{
 "cells": [
  {
   "cell_type": "markdown",
   "metadata": {},
   "source": [
    "## Basic EDA pipline (table data, timeseries)\n",
    "\n",
    "1. Look at data\n",
    "2. Look at target (distribitions for regression task, frequncies for classification)\n",
    "3. Find more informationfull features\n",
    "4. Find dependencies (each other, categorical shifts, time dependent etc.)\n",
    "\n",
    "\n",
    "## Basic EDA pipline (image, video)\n",
    "1. Look at data\n",
    "2. Compute image metrics (hists etc.)\n",
    "\n",
    "\n",
    "## Basic EDA pipline (text)\n",
    "1. Look at data\n",
    "2. Compute text metrics "
   ]
  },
  {
   "cell_type": "markdown",
   "metadata": {},
   "source": [
    "## Basic piplienes for reasearch/competition ML\n",
    "\n",
    "In first need decide which type of task you try solve: prediction or forecasting? If you get new observation some features could not compute all features or in example for time series for mulitstep prediction you don't have a previous observation for future in long horizont.\n",
    "\n",
    "1. Load data (maybe from different sources)\n",
    "2. Make data pipline:\n",
    "        \n",
    "        2.0 Merge data\n",
    "        2.1 Process missing values\n",
    "        2.2 Convert types (Label encoding, one-hot encoding)\n",
    "        2.3 Extract features (from text, datetime etc.)\n",
    "        2.4 Generate features (combine features each other, apply diferent modultions, etc.)\n",
    "        \n",
    "        \n",
    "**Trade-off:**  include data preprocessing to sklearn piplines or not?\n",
    "        \n",
    "3. Split data on train/test and train to folds or other validation strategy.\n",
    "4. Tune few models classes and its hyperparamters\n",
    "5. Look at errors and improve features/models\n",
    "\n",
    "## Basic piplienes for production ML\n",
    "\n",
    "1. Make data pipeline\n",
    "2. Fit reaseach model\n",
    "3. Put it in production inference\n",
    "4. Get new datapoint, check it deviation from learning feature distributions, predict output\n",
    "5. Get real answer and mark datapoint observation and compute error\n",
    "6. If errors more then threshold re-fit model on new datapoints\n",
    "7. Put new model in production inference"
   ]
  },
  {
   "cell_type": "markdown",
   "metadata": {},
   "source": [
    "## Basic piplienes for NN\n",
    "\n"
   ]
  },
  {
   "cell_type": "code",
   "execution_count": null,
   "metadata": {},
   "outputs": [],
   "source": []
  },
  {
   "cell_type": "code",
   "execution_count": null,
   "metadata": {},
   "outputs": [],
   "source": []
  },
  {
   "cell_type": "code",
   "execution_count": null,
   "metadata": {},
   "outputs": [],
   "source": []
  }
 ],
 "metadata": {
  "kernelspec": {
   "display_name": "Python 3",
   "language": "python",
   "name": "python3"
  },
  "language_info": {
   "codemirror_mode": {
    "name": "ipython",
    "version": 3
   },
   "file_extension": ".py",
   "mimetype": "text/x-python",
   "name": "python",
   "nbconvert_exporter": "python",
   "pygments_lexer": "ipython3",
   "version": "3.6.6"
  }
 },
 "nbformat": 4,
 "nbformat_minor": 2
}
