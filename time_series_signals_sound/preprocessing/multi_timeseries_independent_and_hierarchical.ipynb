{
 "cells": [
  {
   "cell_type": "markdown",
   "metadata": {},
   "source": [
    "# Multi-timeseries data preprocessing\n",
    "\n",
    "Multi-timeseries data is an independent timeseries that represent similar proceses or one proces from different view points (different sensors, places etc.)\n",
    "\n",
    "1. Normalize data table structure\n",
    "2. Time series tasks:\n",
    "    2.1 Forecasting / prediction\n",
    "    2.2 Segmentation / marking / change detection\n",
    "    2.3 Classification\n",
    "3. Feature generation\n",
    "4. Feature extraction\n",
    "5. External libraries for feature generetion"
   ]
  },
  {
   "cell_type": "code",
   "execution_count": null,
   "metadata": {},
   "outputs": [],
   "source": []
  },
  {
   "cell_type": "code",
   "execution_count": null,
   "metadata": {},
   "outputs": [],
   "source": []
  }
 ],
 "metadata": {
  "kernelspec": {
   "display_name": "Python 3",
   "language": "python",
   "name": "python3"
  },
  "language_info": {
   "codemirror_mode": {
    "name": "ipython",
    "version": 3
   },
   "file_extension": ".py",
   "mimetype": "text/x-python",
   "name": "python",
   "nbconvert_exporter": "python",
   "pygments_lexer": "ipython3",
   "version": "3.6.6"
  }
 },
 "nbformat": 4,
 "nbformat_minor": 2
}
